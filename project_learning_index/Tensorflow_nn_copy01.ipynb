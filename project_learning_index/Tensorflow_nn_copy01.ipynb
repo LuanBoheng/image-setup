{
 "cells": [
  {
   "cell_type": "code",
   "execution_count": 1,
   "metadata": {},
   "outputs": [
    {
     "name": "stderr",
     "output_type": "stream",
     "text": [
      "/usr/local/lib/python3.5/dist-packages/h5py/__init__.py:36: FutureWarning: Conversion of the second argument of issubdtype from `float` to `np.floating` is deprecated. In future, it will be treated as `np.float64 == np.dtype(float).type`.\n",
      "  from ._conv import register_converters as _register_converters\n"
     ]
    },
    {
     "name": "stdout",
     "output_type": "stream",
     "text": [
      "1.8.0\n"
     ]
    }
   ],
   "source": [
    "import tensorflow as tf\n",
    "from tensorflow import keras\n",
    "\n",
    "import numpy as np\n",
    "\n",
    "print(tf.__version__)\n"
   ]
  },
  {
   "cell_type": "code",
   "execution_count": 2,
   "metadata": {},
   "outputs": [],
   "source": [
    "import numpy\n",
    "from tqdm import tqdm\n",
    "\n",
    "size = 1000000\n",
    "\n",
    "data = numpy.random.normal(0,0.1,size)\n",
    "data.sort()\n"
   ]
  },
  {
   "cell_type": "code",
   "execution_count": 3,
   "metadata": {},
   "outputs": [
    {
     "data": {
      "text/plain": [
       "<Figure size 640x480 with 1 Axes>"
      ]
     },
     "metadata": {},
     "output_type": "display_data"
    }
   ],
   "source": [
    "import matplotlib.pyplot as plt\n",
    "count, bins, ignored = plt.hist(data, 50, density=True)\n",
    "plt.plot(bins, 1/(0.1 * np.sqrt(2 * np.pi)) *\n",
    "         np.exp( - (bins - 0)**2 / (2 * 0.1**2) ),\n",
    "         linewidth=2, color='r')\n",
    "plt.show()"
   ]
  },
  {
   "cell_type": "code",
   "execution_count": 4,
   "metadata": {},
   "outputs": [
    {
     "data": {
      "image/png": "[encoded data removed]",
      "text/plain": [
       "<Figure size 432x288 with 1 Axes>"
      ]
     },
     "metadata": {},
     "output_type": "display_data"
    }
   ],
   "source": [
    "key = data\n",
    "pos = range(len(data))\n",
    "pos = [p/size for p in pos]\n",
    "\n",
    "plt.plot(key,pos)\n",
    "plt.xlabel('key')\n",
    "plt.ylabel('normalized pos')\n",
    "plt.show()"
   ]
  },
  {
   "cell_type": "code",
   "execution_count": 5,
   "metadata": {
    "scrolled": true
   },
   "outputs": [
    {
     "name": "stdout",
     "output_type": "stream",
     "text": [
      "_________________________________________________________________\n",
      "Layer (type)                 Output Shape              Param #   \n",
      "=================================================================\n",
      "dense_1 (Dense)              (None, 10)                20        \n",
      "_________________________________________________________________\n",
      "dense_2 (Dense)              (None, 2)                 22        \n",
      "_________________________________________________________________\n",
      "dense_3 (Dense)              (None, 1)                 3         \n",
      "=================================================================\n",
      "Total params: 45\n",
      "Trainable params: 45\n",
      "Non-trainable params: 0\n",
      "_________________________________________________________________\n"
     ]
    }
   ],
   "source": [
    "def build_model():\n",
    "  model = keras.Sequential([\n",
    "    keras.layers.Dense(10, activation=tf.nn.relu, \n",
    "                       input_shape=(1,)),\n",
    "    keras.layers.Dense(2, activation=tf.nn.relu),\n",
    "    keras.layers.Dense(1)\n",
    "  ])\n",
    "\n",
    "  optimizer = tf.train.RMSPropOptimizer(0.001)\n",
    "#  optimizer = keras.optimizers.SGD(lr=0.001, decay=0.1, momentum=0.1, nesterov=False)\n",
    "  model.compile(loss='mse',\n",
    "                optimizer=optimizer,\n",
    "                metrics=['mae'])\n",
    "  return model\n",
    "\n",
    "model = build_model()\n",
    "model.summary()\n"
   ]
  },
  {
   "cell_type": "code",
   "execution_count": 6,
   "metadata": {},
   "outputs": [],
   "source": [
    "import random\n",
    "data = list(zip(key,pos))\n",
    "random.shuffle(data)\n",
    "key_s, pos_s = zip(*data)\n",
    "key_s = list(key_s)\n",
    "pos_s = list(pos_s)"
   ]
  },
  {
   "cell_type": "code",
   "execution_count": null,
   "metadata": {},
   "outputs": [
    {
     "name": "stdout",
     "output_type": "stream",
     "text": [
      "\n",
      "."
     ]
    }
   ],
   "source": [
    "import time\n",
    "# Display training progress by printing a single dot for each completed epoch.\n",
    "class PrintDot(keras.callbacks.Callback):\n",
    "  def on_epoch_end(self,epoch,logs):\n",
    "    if epoch % 100 == 0: print('')\n",
    "    print('.', end='')\n",
    "\n",
    "EPOCHS = 10\n",
    "\n",
    "tic = time.time()\n",
    "# Store training stats\n",
    "history = model.fit(key, pos, epochs=EPOCHS, validation_split=0.0, verbose=0, callbacks=[PrintDot()])\n",
    "#history = model.fit(key_s, pos_s, epochs=EPOCHS, batch_size=1000000, verbose=0, validation_split=0, callbacks=[PrintDot()])\n",
    "print('finish in', time.time()-tic, 'sec, totally:', EPOCHS*size)"
   ]
  },
  {
   "cell_type": "code",
   "execution_count": null,
   "metadata": {
    "scrolled": true
   },
   "outputs": [],
   "source": [
    "\n",
    "import matplotlib.pyplot as plt\n",
    "\n",
    "\n",
    "def plot_history(history):\n",
    "  plt.figure()\n",
    "  plt.xlabel('Epoch')\n",
    "  plt.ylabel('Mean Abs Error')\n",
    "  plt.plot(history.epoch, size*np.array(history.history['mean_absolute_error']), \n",
    "           label='Train Loss')\n",
    "  #plt.plot(history.epoch, np.array(history.history['val_mean_absolute_error']),\n",
    "  #         label = 'Val loss')\n",
    "  plt.legend()\n",
    "\n",
    "plot_history(history)\n",
    "\n",
    "\n"
   ]
  },
  {
   "cell_type": "code",
   "execution_count": null,
   "metadata": {},
   "outputs": [],
   "source": [
    "[loss, mae] = model.evaluate(key, pos, verbose=0)\n",
    "\n",
    "print(\"pos set Mean Abs Error: ${:7.2f}\".format(mae * size))\n",
    "tic = time.time()\n",
    "pos_predictions = model.predict(key).flatten()\n",
    "toc = time.time() - tic\n",
    "plt.plot(key,pos)\n",
    "plt.plot(key,pos_predictions)\n",
    "\n",
    "plt.xlabel('key')\n",
    "plt.ylabel('normalized pos')\n",
    "plt.show()\n",
    "\n"
   ]
  },
  {
   "cell_type": "code",
   "execution_count": null,
   "metadata": {},
   "outputs": [],
   "source": [
    "diff = abs(numpy.array(pos)-numpy.array(pos_predictions))\n",
    "print('max diff',max(diff)*size)\n",
    "print('avg diff',diff.mean()*size)\n",
    "print('avg search time', toc/size, 'sec')"
   ]
  },
  {
   "cell_type": "code",
   "execution_count": null,
   "metadata": {},
   "outputs": [],
   "source": []
  }
 ],
 "metadata": {
  "kernelspec": {
   "display_name": "Python 3",
   "language": "python",
   "name": "python3"
  },
  "language_info": {
   "codemirror_mode": {
    "name": "ipython",
    "version": 3
   },
   "file_extension": ".py",
   "mimetype": "text/x-python",
   "name": "python",
   "nbconvert_exporter": "python",
   "pygments_lexer": "ipython3",
   "version": "3.5.2"
  }
 },
 "nbformat": 4,
 "nbformat_minor": 2
}
